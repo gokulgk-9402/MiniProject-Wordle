{
 "cells": [
  {
   "cell_type": "code",
   "execution_count": 1,
   "metadata": {},
   "outputs": [],
   "source": [
    "# to read the contents of the dictionary\n",
    "file1 = open(\"5letterwords.txt\", \"r\")\n",
    "\n",
    "contents = file1.readlines()"
   ]
  },
  {
   "cell_type": "code",
   "execution_count": 2,
   "metadata": {},
   "outputs": [],
   "source": [
    "# defining a dictionary with keys A to Z, and initializing all thier values to 0\n",
    "dict = {}\n",
    "\n",
    "for i in range (65, 91):\n",
    "    dict[chr(i)] = 0"
   ]
  },
  {
   "cell_type": "code",
   "execution_count": 3,
   "metadata": {},
   "outputs": [
    {
     "name": "stdout",
     "output_type": "stream",
     "text": [
      "{'A': 5122, 'B': 1447, 'C': 1841, 'D': 2213, 'E': 5514, 'F': 953, 'G': 1478, 'H': 1632, 'I': 3437, 'J': 268, 'K': 1372, 'L': 3016, 'M': 1806, 'N': 2694, 'O': 3743, 'P': 1817, 'Q': 104, 'R': 3788, 'S': 5719, 'T': 2950, 'U': 2327, 'V': 642, 'W': 1003, 'X': 267, 'Y': 1952, 'Z': 371}\n"
     ]
    }
   ],
   "source": [
    "# counting the number of words, each letter occurs in\n",
    "for word in contents:\n",
    "    w = word.strip()\n",
    "    for key in dict.keys():\n",
    "        if key in w:\n",
    "            dict[key] += 1\n",
    "\n",
    "print(dict)"
   ]
  },
  {
   "cell_type": "code",
   "execution_count": 4,
   "metadata": {},
   "outputs": [
    {
     "name": "stdout",
     "output_type": "stream",
     "text": [
      "[104, 267, 268, 371, 642, 953, 1003, 1372, 1447, 1478, 1632, 1806, 1817, 1841, 1952, 2213, 2327, 2694, 2950, 3016, 3437, 3743, 3788, 5122, 5514, 5719]\n"
     ]
    }
   ],
   "source": [
    "# Sorting the values of the dictionary to see the letters that have the minimum number of words\n",
    "occurences = list(dict.values())\n",
    "occurences.sort()\n",
    "\n",
    "print(occurences)"
   ]
  },
  {
   "cell_type": "code",
   "execution_count": 5,
   "metadata": {},
   "outputs": [
    {
     "name": "stdout",
     "output_type": "stream",
     "text": [
      "1623\n"
     ]
    }
   ],
   "source": [
    "# Counting the number of words that have atleast one of J, X, Z, Q, V letters\n",
    "i = 0\n",
    "\n",
    "for word in contents:\n",
    "    w = word.strip()\n",
    "    if \"J\" in word or \"X\" in word or \"Z\" in word or \"Q\" in word or \"V\" in word:\n",
    "        i += 1\n",
    "\n",
    "print(i)"
   ]
  }
 ],
 "metadata": {
  "interpreter": {
   "hash": "4eaf1be304415beee96765ae99c3f893cc8312c7f1196698e6029668e9aeb3e5"
  },
  "kernelspec": {
   "display_name": "Python 3.10.0 64-bit",
   "language": "python",
   "name": "python3"
  },
  "language_info": {
   "codemirror_mode": {
    "name": "ipython",
    "version": 3
   },
   "file_extension": ".py",
   "mimetype": "text/x-python",
   "name": "python",
   "nbconvert_exporter": "python",
   "pygments_lexer": "ipython3",
   "version": "3.10.0"
  },
  "orig_nbformat": 4
 },
 "nbformat": 4,
 "nbformat_minor": 2
}
